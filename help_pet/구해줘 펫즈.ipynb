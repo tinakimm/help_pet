{
 "cells": [
  {
   "cell_type": "code",
   "execution_count": 6,
   "id": "34afd4b6",
   "metadata": {
    "id": "34afd4b6"
   },
   "outputs": [],
   "source": [
    "import os\n",
    "from time import sleep\n",
    "import time\n",
    "import re\n",
    "from bs4 import BeautifulSoup\n",
    "from selenium import webdriver\n",
    "from selenium.common.exceptions import ElementNotInteractableException\n",
    "from selenium.common.exceptions import NoSuchElementException\n",
    "from selenium.webdriver.common.keys import Keys\n",
    "from selenium.webdriver.common.by import By\n",
    "import csv"
   ]
  },
  {
   "cell_type": "code",
   "execution_count": 1,
   "id": "fc68d8ec",
   "metadata": {},
   "outputs": [
    {
     "name": "stdout",
     "output_type": "stream",
     "text": [
      "Requirement already satisfied: webdriver-manager in c:\\users\\tinak\\anaconda3\\lib\\site-packages (4.0.1)"
     ]
    },
    {
     "name": "stderr",
     "output_type": "stream",
     "text": [
      "WARNING: You are using pip version 21.3.1; however, version 23.3.2 is available.\n",
      "You should consider upgrading via the 'C:\\Users\\tinak\\anaconda3\\python.exe -m pip install --upgrade pip' command.\n"
     ]
    },
    {
     "name": "stdout",
     "output_type": "stream",
     "text": [
      "\n",
      "Requirement already satisfied: requests in c:\\users\\tinak\\anaconda3\\lib\\site-packages (from webdriver-manager) (2.26.0)\n",
      "Requirement already satisfied: packaging in c:\\users\\tinak\\anaconda3\\lib\\site-packages (from webdriver-manager) (21.0)\n",
      "Requirement already satisfied: python-dotenv in c:\\users\\tinak\\anaconda3\\lib\\site-packages (from webdriver-manager) (1.0.0)\n",
      "Requirement already satisfied: pyparsing>=2.0.2 in c:\\users\\tinak\\anaconda3\\lib\\site-packages (from packaging->webdriver-manager) (3.0.4)\n",
      "Requirement already satisfied: idna<4,>=2.5 in c:\\users\\tinak\\anaconda3\\lib\\site-packages (from requests->webdriver-manager) (3.2)\n",
      "Requirement already satisfied: charset-normalizer~=2.0.0 in c:\\users\\tinak\\anaconda3\\lib\\site-packages (from requests->webdriver-manager) (2.0.4)\n",
      "Requirement already satisfied: urllib3<1.27,>=1.21.1 in c:\\users\\tinak\\anaconda3\\lib\\site-packages (from requests->webdriver-manager) (1.26.7)\n",
      "Requirement already satisfied: certifi>=2017.4.17 in c:\\users\\tinak\\anaconda3\\lib\\site-packages (from requests->webdriver-manager) (2021.10.8)\n"
     ]
    }
   ],
   "source": [
    "!pip install webdriver-manager"
   ]
  },
  {
   "cell_type": "code",
   "execution_count": 2,
   "id": "fcd8ffd7",
   "metadata": {},
   "outputs": [
    {
     "name": "stderr",
     "output_type": "stream",
     "text": [
      "C:\\Users\\tinak\\AppData\\Local\\Temp/ipykernel_9984/3871533204.py:3: DeprecationWarning: executable_path has been deprecated, please pass in a Service object\n",
      "  driver = webdriver.Chrome(ChromeDriverManager().install())\n"
     ]
    }
   ],
   "source": [
    "from selenium import webdriver\n",
    "from webdriver_manager.chrome import ChromeDriverManager\n",
    "driver = webdriver.Chrome(ChromeDriverManager().install())"
   ]
  },
  {
   "cell_type": "code",
   "execution_count": 8,
   "id": "61039d40",
   "metadata": {},
   "outputs": [
    {
     "data": {
      "text/plain": [
       "<selenium.webdriver.chrome.webdriver.WebDriver (session=\"a6d1fc7eccd2ef5f7fcd4a9a127256f6\")>"
      ]
     },
     "execution_count": 8,
     "metadata": {},
     "output_type": "execute_result"
    }
   ],
   "source": [
    "driver"
   ]
  },
  {
   "cell_type": "code",
   "execution_count": 15,
   "id": "3ee59d69",
   "metadata": {
    "id": "3ee59d69"
   },
   "outputs": [],
   "source": [
    "gu_list = ['충북']"
   ]
  },
  {
   "cell_type": "code",
   "execution_count": 16,
   "id": "c1d58641",
   "metadata": {
    "id": "c1d58641",
    "outputId": "c12f83da-10d6-4a3d-ea26-768c3fd8c239",
    "scrolled": true
   },
   "outputs": [
    {
     "name": "stderr",
     "output_type": "stream",
     "text": [
      "C:\\Users\\tinak\\AppData\\Local\\Temp/ipykernel_9984/784985054.py:13: DeprecationWarning: executable_path has been deprecated, please pass in a Service object\n",
      "  driver = webdriver.Chrome(os.path.join(os.getcwd(), chromedriver_path), options=options)  # chromedriver 열기\n",
      "C:\\Users\\tinak\\AppData\\Local\\Temp/ipykernel_9984/784985054.py:15: DeprecationWarning: find_element_by_* commands are deprecated. Please use find_element() instead\n",
      "  search_area = driver.find_element_by_xpath('//*[@id=\"search.keyword.query\"]') # 검색 창\n",
      "C:\\Users\\tinak\\AppData\\Local\\Temp/ipykernel_9984/784985054.py:17: DeprecationWarning: find_element_by_* commands are deprecated. Please use find_element() instead\n",
      "  driver.find_element_by_xpath('//*[@id=\"search.keyword.submit\"]').send_keys(Keys.ENTER)  # Enter로 검색\n",
      "C:\\Users\\tinak\\AppData\\Local\\Temp/ipykernel_9984/784985054.py:19: DeprecationWarning: find_element_by_* commands are deprecated. Please use find_element() instead\n",
      "  more_page = driver.find_element_by_id(\"info.search.place.more\")\n",
      "C:\\Users\\tinak\\AppData\\Local\\Temp/ipykernel_9984/784985054.py:27: DeprecationWarning: find_element_by_* commands are deprecated. Please use find_element() instead\n",
      "  next_btn = driver.find_element_by_id(\"info.search.page.next\")\n"
     ]
    },
    {
     "name": "stdout",
     "output_type": "stream",
     "text": [
      "5 개의 페이지 있음\n"
     ]
    },
    {
     "name": "stderr",
     "output_type": "stream",
     "text": [
      "C:\\Users\\tinak\\AppData\\Local\\Temp/ipykernel_9984/784985054.py:41: DeprecationWarning: find_element_by_* commands are deprecated. Please use find_element() instead\n",
      "  page = driver.find_element_by_xpath(xPath)\n"
     ]
    },
    {
     "name": "stdout",
     "output_type": "stream",
     "text": [
      "1  of  [  1  ] \n",
      "2  of  [  1  ] \n",
      "3  of  [  1  ] \n",
      "4  of  [  1  ] \n",
      "5  of  [  1  ] \n"
     ]
    },
    {
     "name": "stderr",
     "output_type": "stream",
     "text": [
      "C:\\Users\\tinak\\AppData\\Local\\Temp/ipykernel_9984/784985054.py:70: DeprecationWarning: find_element_by_* commands are deprecated. Please use find_element() instead\n",
      "  next_btn = driver.find_element_by_id(\"info.search.page.next\")\n"
     ]
    },
    {
     "name": "stdout",
     "output_type": "stream",
     "text": [
      "5 개의 페이지 있음\n",
      "1  of  [  2  ] \n",
      "2  of  [  2  ] \n",
      "3  of  [  2  ] \n",
      "4  of  [  2  ] \n",
      "5  of  [  2  ] \n",
      "Arrow is Disabled\n",
      "End of Crawl\n"
     ]
    }
   ],
   "source": [
    "for index, gu_name in enumerate(gu_list):\n",
    "    fileName = '충북동물병원.csv'\n",
    "    file = open(fileName, 'w', encoding = 'utf-8-sig')\n",
    "    file.write(\"동물병원명\" + \"|\" \"주소\" + \"|\" + \"지번\" + \"|\" + \"영업시간\" + \"|\" + \"전화번호\" + \"|\" + \"평점\"+ \"|\"\\\n",
    "               + \"리뷰수\" + \"|\" + \"링크\" +\"\\n\")\n",
    "    file.close()\n",
    "\n",
    "    options = webdriver.ChromeOptions()\n",
    "    # options.add_argument('headless')\n",
    "    options.add_argument('Mozilla/5.0 (Windows NT 10.0; Win64; x64) AppleWebKit/537.36 (KHTML, like Gecko) Chrome/112.0.0.0 Safari/537.36')\n",
    "    options.add_argument('lang=ko_KR')\n",
    "    chromedriver_path = \"./chromedriver.exe\"\n",
    "    driver = webdriver.Chrome(os.path.join(os.getcwd(), chromedriver_path), options=options)  # chromedriver 열기\n",
    "    driver.get('https://map.kakao.com/')  # 주소 가져오기\n",
    "    search_area = driver.find_element_by_xpath('//*[@id=\"search.keyword.query\"]') # 검색 창\n",
    "    search_area.send_keys(gu_name + ' 동물병원')  # 검색어 입력\n",
    "    driver.find_element_by_xpath('//*[@id=\"search.keyword.submit\"]').send_keys(Keys.ENTER)  # Enter로 검색\n",
    "    driver.implicitly_wait(3) # 기다려 주자\n",
    "    more_page = driver.find_element_by_id(\"info.search.place.more\")\n",
    "    # more_page.click()\n",
    "    more_page.send_keys(Keys.ENTER) # 더보기 누르고\n",
    "    # 첫 번째 검색 페이지 끝\n",
    "    # driver.implicitly_wait(5) # 기다려 주자\n",
    "    time.sleep(3)\n",
    "\n",
    "    # next 사용 가능?\n",
    "    next_btn = driver.find_element_by_id(\"info.search.page.next\")\n",
    "    has_next = \"disabled\" not in next_btn.get_attribute(\"class\").split(\" \")\n",
    "    Page = 1\n",
    "    while has_next: # 다음 페이지가 있으면 loop\n",
    "    # for i in range(2, 6): # 2, 3, 4, 5\n",
    "        file = open(fileName, 'a', encoding='utf-8-sig')\n",
    "        time.sleep(1)\n",
    "        page_links = driver.find_elements(By.CSS_SELECTOR, \"#info\\.search\\.page a\")\n",
    "        pages = [link for link in page_links if \"HIDDEN\" not in link.get_attribute(\"class\").split(\" \")]\n",
    "        print(len(pages), \"개의 페이지 있음\")\n",
    "        # pages를 하나씩 클릭하면서\n",
    "        for i in range(1, 6):\n",
    "            xPath = '//*[@id=\"info.search.page.no' + str(i) + '\"]'\n",
    "            try:\n",
    "                page = driver.find_element_by_xpath(xPath)\n",
    "                page.send_keys(Keys.ENTER)\n",
    "            except ElementNotInteractableException:\n",
    "                print('End of Page')\n",
    "                break;\n",
    "            time.sleep(3)\n",
    "            html = driver.page_source\n",
    "            soup = BeautifulSoup(html, 'html.parser')\n",
    "\n",
    "            hospital_lists = soup.select('.placelist > .PlaceItem')\n",
    "            count = 1\n",
    "            for hospital in hospital_lists:\n",
    "                #temp = []\n",
    "                hospital_name = hospital.select('.head_item > .tit_name > .link_name')[0].text\n",
    "                hospital_addr = hospital.select('div.info_item > div.addr > p')[0].text\n",
    "                hospital_road_addr = hospital.select('div.info_item > div.addr > p.lot_number')[0].text\n",
    "                hospital_hour = hospital.select('div.info_item > div.openhour > p > a')[0].text\n",
    "                hospital_tel = hospital.select('div.info_item > div.contact > span.phone')[0].text\n",
    "                hospital_score_list = hospital.select('div.rating > span > em.num')\n",
    "                if hospital_score_list:\n",
    "                    hospital_score = hospital_score_list[0].text\n",
    "                else:\n",
    "                    hospital.score = \"N/A\"\n",
    "                hospital_review = hospital.select('div.rating > a.review > em')[0].text\n",
    "                hospital_link = hospital.select('div.info_item > div.contact > a.moreview')[0]['href']\n",
    "\n",
    "                file.write(hospital_name + \"|\" + hospital_addr + \"|\" + hospital_road_addr + \"|\" + hospital_hour + \"|\" + hospital_tel + \"|\"\\\n",
    "                           + hospital_score + \"|\" + hospital_review + \"|\" + hospital_link+ \"\\n\")\n",
    "            print(i, ' of', ' [ ' , Page, ' ] ')\n",
    "        next_btn = driver.find_element_by_id(\"info.search.page.next\")\n",
    "        has_next = \"disabled\" not in next_btn.get_attribute(\"class\").split(\" \")\n",
    "        if not has_next:\n",
    "            print('Arrow is Disabled')\n",
    "            driver.close()\n",
    "            file.close()\n",
    "            break # 다음 페이지 없으니까 종료\n",
    "        else: # 다음 페이지 있으면\n",
    "            Page += 1\n",
    "            next_btn.send_keys(Keys.ENTER)\n",
    "\n",
    "    file.close()\n",
    "\n",
    "    print(\"End of Crawl\")"
   ]
  },
  {
   "cell_type": "code",
   "execution_count": 17,
   "id": "ee8a3456",
   "metadata": {
    "id": "ee8a3456"
   },
   "outputs": [],
   "source": [
    "data = list()\n",
    "f = open('충북동물병원.csv', 'r', encoding = 'utf-8-sig')\n",
    "file = csv.reader(f, delimiter = '|')\n",
    "lines = []\n",
    "for line in file:\n",
    "    lines.append(line)\n",
    "\n",
    "f = open('충북동물병원.csv', 'w', newline = \"\")\n",
    "new_file = csv.writer(f)\n",
    "new_file.writerows(lines)\n",
    "\n",
    "f.close()"
   ]
  },
  {
   "cell_type": "code",
   "execution_count": null,
   "id": "268094d3",
   "metadata": {
    "id": "268094d3"
   },
   "outputs": [],
   "source": []
  }
 ],
 "metadata": {
  "colab": {
   "provenance": []
  },
  "kernelspec": {
   "display_name": "Python 3 (ipykernel)",
   "language": "python",
   "name": "python3"
  },
  "language_info": {
   "codemirror_mode": {
    "name": "ipython",
    "version": 3
   },
   "file_extension": ".py",
   "mimetype": "text/x-python",
   "name": "python",
   "nbconvert_exporter": "python",
   "pygments_lexer": "ipython3",
   "version": "3.9.7"
  }
 },
 "nbformat": 4,
 "nbformat_minor": 5
}
