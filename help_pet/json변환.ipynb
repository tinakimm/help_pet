{
 "cells": [
  {
   "cell_type": "code",
   "execution_count": 36,
   "id": "423c8ae0",
   "metadata": {},
   "outputs": [
    {
     "name": "stdout",
     "output_type": "stream",
     "text": [
      "성남시동물병원_geopy.csv 파일이 성남시동물병원.json 파일로 성공적으로 변환되었습니다.\n"
     ]
    }
   ],
   "source": [
    "import csv\n",
    "import json\n",
    "\n",
    "csv_file_path = '성남시동물병원_geopy.csv'\n",
    "json_file_path = '성남시동물병원.json'\n",
    "\n",
    "json_data = []\n",
    "\n",
    "with open(csv_file_path, 'r', encoding='cp949') as csv_file:\n",
    "    csv_reader = csv.reader(csv_file)\n",
    "    header = next(csv_reader)  # 헤더를 읽음\n",
    "\n",
    "    for line in csv_reader:\n",
    "        # 빈 문자열 및 숫자가 아닌 경우 기본값 사용\n",
    "        def parse_float(value):\n",
    "            try:\n",
    "                return float(value)\n",
    "            except ValueError:\n",
    "                return None\n",
    "\n",
    "        def parse_int(value):\n",
    "            try:\n",
    "                return int(value)\n",
    "            except ValueError:\n",
    "                return None\n",
    "\n",
    "        # CSV의 각 행을 JSON 스타일의 딕셔너리로 변환\n",
    "        hospital_data = {\n",
    "            '동물병원명': line[0],\n",
    "            '주소': line[1],\n",
    "            'Latitude': parse_float(line[2]),\n",
    "            'Longitude': parse_float(line[3]),\n",
    "            '지번': line[4],\n",
    "            '영업시간': line[5],\n",
    "            '전화번호': line[6],\n",
    "            '평점': parse_float(line[7]),\n",
    "            '리뷰수': parse_int(line[8]),\n",
    "            '링크': line[9]\n",
    "        }\n",
    "        json_data.append(hospital_data)\n",
    "\n",
    "# JSON 파일로 쓰기\n",
    "with open(json_file_path, 'w', encoding='utf-8') as json_file:\n",
    "    json.dump(json_data, json_file, ensure_ascii=False, indent=2)\n",
    "\n",
    "print(f'{csv_file_path} 파일이 {json_file_path} 파일로 성공적으로 변환되었습니다.')\n"
   ]
  },
  {
   "cell_type": "code",
   "execution_count": null,
   "id": "d9b58492",
   "metadata": {},
   "outputs": [],
   "source": []
  }
 ],
 "metadata": {
  "kernelspec": {
   "display_name": "Python 3 (ipykernel)",
   "language": "python",
   "name": "python3"
  },
  "language_info": {
   "codemirror_mode": {
    "name": "ipython",
    "version": 3
   },
   "file_extension": ".py",
   "mimetype": "text/x-python",
   "name": "python",
   "nbconvert_exporter": "python",
   "pygments_lexer": "ipython3",
   "version": "3.9.7"
  }
 },
 "nbformat": 4,
 "nbformat_minor": 5
}
